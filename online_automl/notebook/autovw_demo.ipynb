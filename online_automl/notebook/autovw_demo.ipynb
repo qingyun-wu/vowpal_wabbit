{
 "metadata": {
  "language_info": {
   "codemirror_mode": {
    "name": "ipython",
    "version": 3
   },
   "file_extension": ".py",
   "mimetype": "text/x-python",
   "name": "python",
   "nbconvert_exporter": "python",
   "pygments_lexer": "ipython3",
   "version": "3.7.9-final"
  },
  "orig_nbformat": 2,
  "kernelspec": {
   "name": "python3",
   "display_name": "Python 3"
  }
 },
 "nbformat": 4,
 "nbformat_minor": 2,
 "cells": [
  {
   "cell_type": "markdown",
   "metadata": {},
   "source": []
  },
  {
   "cell_type": "code",
   "execution_count": 10,
   "metadata": {},
   "outputs": [],
   "source": [
    "from vowpalwabbit import pyvw\n",
    "import pickle\n"
   ]
  },
  {
   "cell_type": "code",
   "execution_count": 11,
   "metadata": {},
   "outputs": [],
   "source": [
    "\n",
    "import numpy as np\n",
    "import argparse\n",
    "import itertools\n",
    "import pandas as pd\n",
    "from sklearn.metrics import mean_squared_error\n",
    "from vowpalwabbit import pyvw\n",
    "import pylibvw\n",
    "\n",
    "from sklearn.preprocessing import PolynomialFeatures\n",
    "import itertools\n",
    "\n",
    "\n",
    "class DataSimulator:\n",
    "##TODO: add description about the DataSimulator\n",
    "##TODO: currently building the DataSimulator from simulation. \n",
    "##May need to consider constructing the DataSimulator from supervised datasets\n",
    "\n",
    "    def __init__(self, iter_num, parameter=None):\n",
    "        self.Y = None \n",
    "        self.raw_ns = ['a', 'b', 'c', 'd', 'e']\n",
    "        #key is namespace id, and value is the dim of the namespace\n",
    "        self.raw_ns_dic = {'a':3, 'b':3, 'c':3, 'd':3, 'e':3}\n",
    "        self.ground_truth_ns = ['a', 'b', 'c', 'd', 'e','ab', 'ac', 'cd']\n",
    "        self._generate_raw_X(iter_num)\n",
    "        self._generate_parameter()\n",
    "        self._generate_reward(self.vw_x_dic_list)\n",
    "        self._construct_vw_example()\n",
    "\n",
    "    def _generate_raw_X(self, iter_num):\n",
    "        self.vw_x_dic_list = []\n",
    "        for i in range(iter_num):\n",
    "            vw_x_dic = {}\n",
    "            count = 0\n",
    "            for raw_ns, ns_dim in self.raw_ns_dic.items():\n",
    "                feature = np.random.uniform(-1,1,ns_dim)\n",
    "                # feature = feature/np.linalg.norm(feature)\n",
    "                vw_x_dic[raw_ns] = feature\n",
    "                count +=1\n",
    "            for ns in self.ground_truth_ns:\n",
    "                if ns not in vw_x_dic and len(ns) >1:\n",
    "                    inter_feature = vw_x_dic[str(ns)[0]]\n",
    "                    for i in range(1, len(str(ns))):\n",
    "                        inter_feature = np.outer(inter_feature, vw_x_dic[str(ns)[i]]).flatten()\n",
    "                    vw_x_dic[ns] = inter_feature\n",
    "            self.vw_x_dic_list.append(vw_x_dic)\n",
    "        \n",
    "    def _generate_parameter(self):\n",
    "        #generate reward paramter dictionary\n",
    "        vw_parameter_dic = {}\n",
    "        count =0\n",
    "        for ns_int in self.ground_truth_ns:\n",
    "            ns_dim = 1\n",
    "            for ns in ns_int:\n",
    "                ns_dim *= self.raw_ns_dic[ns]\n",
    "            parameter = np.random.uniform(0,1,ns_dim)\n",
    "            # parameter = parameter/np.linalg.norm(parameter)\n",
    "            vw_parameter_dic[ns_int] = parameter\n",
    "\n",
    "            count +=1\n",
    "        self.vw_parameter_dic = vw_parameter_dic\n",
    "\n",
    "    def _generate_reward(self, vw_x_list):\n",
    "        # input is a dictionary of feature in vw format\n",
    "        y_list = []\n",
    "        for vw_x_dic in vw_x_list:\n",
    "            reward_fs = 0\n",
    "            for ns, fs in vw_x_dic.items():\n",
    "                if ns in self.vw_parameter_dic:\n",
    "                    # print(ns, fs, self.vw_parameter_dic[ns])\n",
    "                    reward_fs += np.dot(vw_x_dic[ns], self.vw_parameter_dic[ns])\n",
    "            noise = np.random.normal(0, 0.001, 1)[0]\n",
    "            r = reward_fs + noise\n",
    "            log_r = 1/(1 + np.exp(-r))\n",
    "            if log_r >0.5:\n",
    "                label = 1\n",
    "            else: label = 0\n",
    "            y_list.append(label)\n",
    "        self.Y = y_list\n",
    "\n",
    "    def _construct_vw_example(self):\n",
    "        # construct a list of vw example\n",
    "        self.vw_examples = []\n",
    "        for i, x_dic in enumerate(self.vw_x_dic_list):\n",
    "            raw_vw_example = str(self.Y[i]) + ' '\n",
    "            for ns, ns_x in x_dic.items():\n",
    "                raw_vw_example = raw_vw_example + '|' + str(ns) + ' ' + ' '.join([str(s) for s in ns_x]) + ' '\n",
    "            # pyvw_example = pyvw.example(raw_vw_example)\n",
    "            self.vw_examples.append(raw_vw_example)\n",
    "\n",
    "def get_data(iter_num=None, vw_format=True):\n",
    "    #get data from simulation\n",
    "    vw_examples = None\n",
    "    data = DataSimulator(iter_num)\n",
    "    X = data.vw_x_dic_list\n",
    "    Y = data.Y\n",
    "    if vw_format: vw_examples = data.vw_examples\n",
    "    return X, Y, vw_examples\n"
   ]
  },
  {
   "cell_type": "code",
   "execution_count": 12,
   "metadata": {},
   "outputs": [],
   "source": [
    "learner = pyvw.vw()\n",
    "# pickle.dumps(learner)\n",
    "learner.save('../vw_models/model')"
   ]
  },
  {
   "cell_type": "code",
   "execution_count": 15,
   "metadata": {},
   "outputs": [],
   "source": [
    "iter_num = 100\n",
    "X, Y, vw_example = get_data(100, vw_format=True)\n",
    "fixed_hp_config = {'l2': 0.1, 'loss_function': 'squared'}\n",
    "#instantiate several vw learners (as baselines) and an AutoOnlineLearner\n",
    "alg_dic = {}\n",
    "# alg_dic['oracle'] = pyvw.vw(q=['ab', 'ac', 'cd'], **fixed_hp_config)\n",
    "alg_dic['naive'] = pyvw.vw(**fixed_hp_config)"
   ]
  },
  {
   "cell_type": "code",
   "execution_count": 18,
   "metadata": {
    "tags": []
   },
   "outputs": [
    {
     "output_type": "stream",
     "name": "stdout",
     "text": "\n\n\n\n\n\n\n\n\n\n\n\n\n\n\n\n\n\n\n\n\n\n\n\n\n\n\n\n\n\n\n\n\n\n\n\n\n\n\n\n\n\n\n\n\n\n\n\n\n\n\n\n\n\n\n\n\n\n\n\n\n\n\n\n\n\n\n\n\n\n\n\n\n\n\n\n\n\n\n\n\n\n\n\n\n\n\n\n\n\n\n\n\n\n\n\n\n\n\n\n[0.0, 0.0, 0.0, 0.0, 0.0, 0.0, 0.0, 0.0, 0.0, 0.0, 0.0, 0.0, 0.0, 0.0, 0.0, 0.0, 0.0, 0.0, 0.0, 0.0, 0.0, 0.0, 0.0, 0.0, 0.0, 0.0, 0.0, 0.0, 0.0, 0.0, 0.0, 0.0, 0.0, 0.0, 0.0, 0.0, 0.0, 0.0, 0.0, 0.0, 0.0, 0.0, 0.0, 0.0, 0.0, 0.0, 0.0, 0.0, 0.0, 0.0, 0.0, 0.0, 0.0, 0.0, 0.0, 0.0, 0.0, 0.0, 0.0, 0.0, 0.0, 0.0, 0.0, 0.0, 0.0, 0.0, 0.0, 0.0, 0.0, 0.0, 0.0, 0.0, 0.0, 0.0, 0.0, 0.0, 0.0, 0.0, 0.0, 0.0, 0.0, 0.0, 0.0, 0.0, 0.0, 0.0, 0.0, 0.0, 0.0, 0.0, 0.0, 0.0, 0.0, 0.0, 0.0, 0.0, 0.0, 0.0, 0.0, 0.0]\n"
    }
   ],
   "source": [
    "for name, vw_alg in alg_dic.items():\n",
    "    cumulative_loss_list = []\n",
    "    for i in range(iter_num):\n",
    "        # y =  Y[i] #TODO: do we need y? vw_example already include x and y\n",
    "        if 'auto' in name:\n",
    "            # loss = vw_x.get_loss()\n",
    "            print(vw_example[i])\n",
    "            vw_x = vw_example[i]\n",
    "            #TODO: check how to convert to vw example\n",
    "            # vw_x = pyvw.example(vw_alg.incumbent_vw(), vw_example[i])\n",
    "            y_pred= vw_alg.incumbent_vw.predict(vw_x)  \n",
    "            vw_alg.learn(vw_x) \n",
    "            cumulative_loss_list.append(vw_alg.incumbent_vw.get_sum_loss())\n",
    "        else:\n",
    "            vw_x = pyvw.example(vw_alg, vw_example[i])\n",
    "            y_pred= vw_alg.predict(vw_x)  \n",
    "            vw_alg.learn(vw_x) \n",
    "            print()\n",
    "            cumulative_loss_list.append(vw_alg.get_sum_loss())\n",
    "        # alg.finish_example(vw_x)\n",
    "    print(cumulative_loss_list)"
   ]
  },
  {
   "cell_type": "code",
   "execution_count": null,
   "metadata": {},
   "outputs": [],
   "source": []
  }
 ]
}